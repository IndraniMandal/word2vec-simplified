{
 "cells": [
  {
   "cell_type": "markdown",
   "metadata": {},
   "source": [
    "# Exploring Word2Vec"
   ]
  },
  {
   "cell_type": "markdown",
   "metadata": {},
   "source": [
    "## Definition"
   ]
  },
  {
   "cell_type": "markdown",
   "metadata": {},
   "source": [
    "Word2vec is a group of related models that are used to produce word embeddings. These models are shallow, two-layer neural networks that are trained to reconstruct **linguistic contexts** of words. Here lingustic contexts are represented as vector spaces. Word2vec takes as its input a large corpus of text and produces a vector space, typically of several hundred dimensions, with each unique word in the corpus being assigned a corresponding vector in the space. Word vectors are positioned in the vector space such that words that share common contexts in the corpus are located in close proximity to one another in the space. --[Wikipedia](https://en.wikipedia.org/wiki/Word2vec)"
   ]
  },
  {
   "cell_type": "markdown",
   "metadata": {},
   "source": [
    "## Using the simplified Word2Vec Model"
   ]
  },
  {
   "cell_type": "code",
   "execution_count": 1,
   "metadata": {
    "collapsed": true
   },
   "outputs": [],
   "source": [
    "# set up our environment\n",
    "%matplotlib inline\n",
    "import numpy as np\n",
    "import matplotlib.pyplot as plt\n",
    "import pandas as pd\n",
    "from sklearn.metrics.pairwise import cosine_similarity\n",
    "from sklearn.decomposition import PCA"
   ]
  },
  {
   "cell_type": "code",
   "execution_count": 2,
   "metadata": {},
   "outputs": [
    {
     "name": "stdout",
     "output_type": "stream",
     "text": [
      "Our model has 156542 words and 300 dimensions.\n"
     ]
    }
   ],
   "source": [
    "# initialize our embedding model\n",
    "model = pd.read_pickle('word2vec.pkl')\n",
    "print(\"Our model has {} words and {} dimensions.\".format(model.shape[0],model.shape[1]))"
   ]
  },
  {
   "cell_type": "markdown",
   "metadata": {},
   "source": [
    "As we said above, in these embedding models each word is represented as a vector. Let's just peek at what kind of words are in our model,"
   ]
  },
  {
   "cell_type": "code",
   "execution_count": 3,
   "metadata": {},
   "outputs": [
    {
     "name": "stdout",
     "output_type": "stream",
     "text": [
      "Some example words in the model: ['year', 'were', 'we', 'more', 'up']\n"
     ]
    }
   ],
   "source": [
    "words = list(model.index)\n",
    "print(\"Some example words in the model: {}\"\\\n",
    "        .format(words[30:35]))"
   ]
  },
  {
   "cell_type": "markdown",
   "metadata": {},
   "source": [
    "Now, let's do the [classic example](https://www.technologyreview.com/s/541356/king-man-woman-queen-the-marvelous-mathematics-of-computational-linguistics) of 'king - man + woman = queen',"
   ]
  },
  {
   "cell_type": "code",
   "execution_count": 4,
   "metadata": {},
   "outputs": [
    {
     "name": "stdout",
     "output_type": "stream",
     "text": [
      "Similarity between 'female king' and 'queen' = 0.7300517409077553\n",
      "Similarity between 'king' and 'queen' = 0.6510956835386663\n"
     ]
    }
   ],
   "source": [
    "# look up the vectors in our model\n",
    "queen = model.loc['queen']\n",
    "king = model.loc['king']\n",
    "man = model.loc['man']\n",
    "woman = model.loc['woman']\n",
    "\n",
    "# compute the vector for 'female king'\n",
    "female_king = king - man + woman\n",
    "\n",
    "# now check if 'female king' is more similar to queen than king is\n",
    "sim = cosine_similarity([female_king,king],[queen])\n",
    "\n",
    "print(\"Similarity between 'female king' and 'queen' = {}\".format(sim[0,0]))\n",
    "print(\"Similarity between 'king' and 'queen' = {}\".format(sim[1,0]))"
   ]
  },
  {
   "cell_type": "markdown",
   "metadata": {},
   "source": [
    "Indeed, 'female king' is more similar to 'queen' than 'king' is.  This clearly shows that these embedding vectors capture some notion of semantics/meaning of the words."
   ]
  },
  {
   "cell_type": "markdown",
   "metadata": {},
   "source": [
    "Let's try another example: cacao + milk = chocolate"
   ]
  },
  {
   "cell_type": "code",
   "execution_count": 5,
   "metadata": {},
   "outputs": [
    {
     "name": "stdout",
     "output_type": "stream",
     "text": [
      "Similarity between 'cacao+milk' and 'chocolate' = 0.63322493583682\n",
      "Similarity between 'cacao' and 'chocolate' = 0.5436312732293445\n",
      "Similarity between 'milk' and 'chocolate' = 0.5012687069537886\n"
     ]
    }
   ],
   "source": [
    "# look up the vectors\n",
    "cacao = model.loc['cacao']\n",
    "milk = model.loc['milk']\n",
    "chocolate = model.loc['chocolate']\n",
    "\n",
    "# compute the vector for cocao beverage\n",
    "bev = cacao + milk\n",
    "\n",
    "# now check if the resulting beverage is similar to chocolate...\n",
    "sim = cosine_similarity([bev,cacao,milk],[chocolate])\n",
    "\n",
    "print(\"Similarity between 'cacao+milk' and 'chocolate' = {}\".format(sim[0,0]))\n",
    "print(\"Similarity between 'cacao' and 'chocolate' = {}\".format(sim[1,0]))\n",
    "print(\"Similarity between 'milk' and 'chocolate' = {}\".format(sim[2,0]))"
   ]
  },
  {
   "cell_type": "markdown",
   "metadata": {},
   "source": [
    "We see that 'cacao+milk' is more similar to chocolate than 'cacao' or 'milk' on their own."
   ]
  },
  {
   "cell_type": "markdown",
   "metadata": {},
   "source": [
    "## Visualizing Word Embedding Vectors"
   ]
  },
  {
   "cell_type": "markdown",
   "metadata": {},
   "source": [
    "In order to visualize the vectors we will take the 300 dimensional space of the orginal model and project it onto a 2D space using Principle Component Analysis (PCA).  Now each word in our reduced model is represented by a vector in 2D space and therefore we can easily plot those vectors.  One caveat is that we will probably have lost many semantic nuances going from a 300D model to a 2D model but the major semantic concepts are still preserved."
   ]
  },
  {
   "cell_type": "code",
   "execution_count": 6,
   "metadata": {},
   "outputs": [
    {
     "name": "stdout",
     "output_type": "stream",
     "text": [
      "Our reduced model has 156542 words and 2 dimensions\n"
     ]
    }
   ],
   "source": [
    "# reduce our embedding model to 2D\n",
    "pca = PCA(n_components=2)\n",
    "model2D = pd.DataFrame(pca.fit_transform(model),index=model.index)\n",
    "r,c = model2D.shape\n",
    "print(\"Our reduced model has {} words and {} dimensions\".format(r,c))"
   ]
  },
  {
   "cell_type": "markdown",
   "metadata": {},
   "source": [
    "Putting our reduced model to work. The picture below shows the words *king* (blue arrow), *queen* (red arrow), *man* (green arrow), and *woman* (black arrow) being embedded in our 2-dimensional vector space representing linguistic contexts."
   ]
  },
  {
   "cell_type": "code",
   "execution_count": 7,
   "metadata": {},
   "outputs": [
    {
     "data": {
      "image/png": "[encoded data removed]",
      "text/plain": [
       "<matplotlib.figure.Figure at 0x10fe6c400>"
      ]
     },
     "metadata": {},
     "output_type": "display_data"
    }
   ],
   "source": [
    "# look up the vectors in our model\n",
    "queen = model2D.loc['queen']\n",
    "king = model2D.loc['king']\n",
    "man = model2D.loc['man']\n",
    "woman = model2D.loc['woman']\n",
    "oil = model2D.loc['oil']\n",
    "\n",
    "# plot the vectors\n",
    "plt.quiver(0, 0, queen[0], queen[1], color='red',angles='xy', scale_units='xy', scale=20)\n",
    "plt.quiver(0, 0, king[0], king[1], color='blue',angles='xy', scale_units='xy', scale=20)\n",
    "plt.quiver(0, 0, man[0], man[1], color='green',angles='xy', scale_units='xy', scale=20)\n",
    "plt.quiver(0, 0, woman[0], woman[1], color='black',angles='xy', scale_units='xy', scale=20)\n",
    "plt.quiver(0, 0, oil[0], oil[1], color='yellow',angles='xy', scale_units='xy', scale=20)\n",
    "plt.show()"
   ]
  },
  {
   "cell_type": "markdown",
   "metadata": {},
   "source": [
    "Notice that words that typically appear in similar contexts such as king, queen, man, and woman appear close to each other in that space.  Whereas unrelated concepts such as 'oil' are further away. That is precisely the property that word embeddings exploit.  "
   ]
  },
  {
   "cell_type": "markdown",
   "metadata": {},
   "source": [
    "Now let's redo the classic example 'female_king = king - man + woman' and look at the vectors,"
   ]
  },
  {
   "cell_type": "code",
   "execution_count": 8,
   "metadata": {},
   "outputs": [
    {
     "data": {
      "image/png": "[encoded data removed]",
      "text/plain": [
       "<matplotlib.figure.Figure at 0x110e16a90>"
      ]
     },
     "metadata": {},
     "output_type": "display_data"
    }
   ],
   "source": [
    "female_king = king - man + woman\n",
    "\n",
    "plt.quiver(0, 0, queen[0], queen[1], color='red',angles='xy', scale_units='xy', scale=20)\n",
    "plt.quiver(0, 0, king[0], king[1], color='blue',angles='xy', scale_units='xy', scale=20)\n",
    "plt.quiver(0, 0, female_king[0], female_king[1], color='black',angles='xy', scale_units='xy', scale=20)\n",
    "plt.show()"
   ]
  },
  {
   "cell_type": "markdown",
   "metadata": {},
   "source": [
    "We can see that the black 'female_king' arrow is closer to the red 'queen' arrow than the 'king' arrow is, as we expected.  But what this visualization also shows is that if we compare 'female_king' to both 'king' and 'queen' we find that it is still more similar to 'king' than to 'queen'.  Something perhaps a bit surprising."
   ]
  },
  {
   "cell_type": "markdown",
   "metadata": {},
   "source": [
    "Let's visualize our second experiment with 'cacao' and 'chocolate',"
   ]
  },
  {
   "cell_type": "code",
   "execution_count": 9,
   "metadata": {},
   "outputs": [
    {
     "data": {
      "image/png": "[encoded data removed]",
      "text/plain": [
       "<matplotlib.figure.Figure at 0x1110a40f0>"
      ]
     },
     "metadata": {},
     "output_type": "display_data"
    }
   ],
   "source": [
    "# look up the vectors in our model\n",
    "cacao = model2D.loc['cacao']\n",
    "milk = model2D.loc['milk']\n",
    "chocolate = model2D.loc['chocolate']\n",
    "car = model2D.loc['car']\n",
    "\n",
    "# compute the beverage\n",
    "bev = cacao + milk\n",
    "\n",
    "# plot the vectors\n",
    "plt.quiver(0, 0, cacao[0], cacao[1], color='red',angles='xy', scale_units='xy', scale=20)\n",
    "plt.quiver(0, 0, milk[0], milk[1], color='blue',angles='xy', scale_units='xy', scale=20)\n",
    "plt.quiver(0, 0, chocolate[0], chocolate[1], color='green',angles='xy', scale_units='xy', scale=20)\n",
    "plt.quiver(0, 0, bev[0], bev[1], color='black',angles='xy', scale_units='xy', scale=20)\n",
    "plt.quiver(0, 0, car[0], car[1], color='yellow',angles='xy', scale_units='xy', scale=20)\n",
    "plt.show()"
   ]
  },
  {
   "cell_type": "markdown",
   "metadata": {},
   "source": [
    "Here, unfortunately, our projection of the 300D space onto the 2D space distored things a bit, our nice equation no longer holds, instead, 'cacao' is more similar to 'chocolate' than 'cacao+milk'.  However, that major concepts are still preserved can be seen when we introduce a completely unrelated concept such as car as can be seen below,"
   ]
  },
  {
   "cell_type": "code",
   "execution_count": 10,
   "metadata": {},
   "outputs": [
    {
     "name": "stdout",
     "output_type": "stream",
     "text": [
      "Similarity between 'cacao+milk' and 'chocolate' = 0.6173697338061754\n",
      "Similarity between 'cacao' and 'chocolate' = 0.6827524344435227\n",
      "Similarity between 'milk' and 'chocolate' = 0.3121497544894116\n",
      "Similarity between 'car' and 'chocolate' = -0.842737199955738\n"
     ]
    }
   ],
   "source": [
    "# now check if the resulting beverage is similar to chocolate...\n",
    "sim = cosine_similarity([bev,cacao,milk,car],[chocolate])\n",
    "\n",
    "print(\"Similarity between 'cacao+milk' and 'chocolate' = {}\".format(sim[0,0]))\n",
    "print(\"Similarity between 'cacao' and 'chocolate' = {}\".format(sim[1,0]))\n",
    "print(\"Similarity between 'milk' and 'chocolate' = {}\".format(sim[2,0]))\n",
    "print(\"Similarity between 'car' and 'chocolate' = {}\".format(sim[3,0]))"
   ]
  },
  {
   "cell_type": "markdown",
   "metadata": {},
   "source": [
    "Here 'car' is almost as unrelated to 'chocolate' as possible."
   ]
  },
  {
   "cell_type": "code",
   "execution_count": null,
   "metadata": {
    "collapsed": true
   },
   "outputs": [],
   "source": []
  }
 ],
 "metadata": {
  "kernelspec": {
   "display_name": "Python 3",
   "language": "python",
   "name": "python3"
  },
  "language_info": {
   "codemirror_mode": {
    "name": "ipython",
    "version": 3
   },
   "file_extension": ".py",
   "mimetype": "text/x-python",
   "name": "python",
   "nbconvert_exporter": "python",
   "pygments_lexer": "ipython3",
   "version": "3.6.1"
  }
 },
 "nbformat": 4,
 "nbformat_minor": 2
}
